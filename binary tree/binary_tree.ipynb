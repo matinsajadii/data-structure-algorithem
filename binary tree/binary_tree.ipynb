{
 "cells": [
  {
   "cell_type": "markdown",
   "id": "597271da-8a9a-4e3e-858d-37ce60d28981",
   "metadata": {},
   "source": [
    "# General Tree"
   ]
  },
  {
   "cell_type": "code",
   "execution_count": 1,
   "id": "ead522a1-325e-40e1-a703-a2b0fad79323",
   "metadata": {},
   "outputs": [],
   "source": [
    "class Tree_node:\n",
    "    def __init__(self, data):\n",
    "        self.data = data\n",
    "        self.children = []\n",
    "        self.parent = None\n",
    "\n",
    "\n",
    "    def add_child(self, child):\n",
    "        self.children.append(child)\n",
    "        child.parent = self\n",
    "\n",
    "\n",
    "    def get_lvl(self):\n",
    "        level = 0\n",
    "        p = self.parent\n",
    "        while p:\n",
    "            level +=1\n",
    "            p = p.parent\n",
    "        return level\n",
    "\n",
    "    \n",
    "    def print_tree(self):\n",
    "        spaces = \"   \" * self.get_lvl()\n",
    "        perfix = spaces + \"|--\" if self.parent else \"|--\"\n",
    "        print(perfix, self.data)\n",
    "        for child in self.children:\n",
    "            child.print_tree()\n",
    "\n",
    "\n",
    "    def search_child(self, key):\n",
    "        if self.data == key:\n",
    "            return True\n",
    "        else:\n",
    "            for child in self.children:\n",
    "                found = child.search_child(key)\n",
    "                if found:\n",
    "                    return True\n",
    "            return False\n",
    "  "
   ]
  },
  {
   "cell_type": "code",
   "execution_count": 2,
   "id": "bc8b5493-5f25-4879-8752-60965eb21344",
   "metadata": {},
   "outputs": [],
   "source": [
    "def create_tree():\n",
    "    root = Tree_node(\"Electronics\")\n",
    "\n",
    "    \n",
    "    laptop = Tree_node(\"laptop\")\n",
    "    \n",
    "    laptop.add_child(Tree_node(\"acer\"))\n",
    "    laptop.add_child(Tree_node(\"asuse\"))\n",
    "    laptop.add_child(Tree_node(\"apple\"))\n",
    "    laptop.add_child(Tree_node(\"msi\"))\n",
    "\n",
    "    \n",
    "    phones = Tree_node(\"phones\")\n",
    "    \n",
    "    phones.add_child(Tree_node(\"samsung\"))\n",
    "    phones.add_child(Tree_node(\"iphone\"))\n",
    "    phones.add_child(Tree_node(\"xiaomi\"))\n",
    "    phones.add_child(Tree_node(\"honor\"))\n",
    "\n",
    "    \n",
    "    televisions = Tree_node(\"televisions\")\n",
    "    \n",
    "    televisions.add_child(Tree_node(\"samsung\"))\n",
    "    televisions.add_child(Tree_node(\"LG\"))\n",
    "    televisions.add_child(Tree_node(\"xiaomi\"))\n",
    "\n",
    "    root.add_child(laptop)\n",
    "    root.add_child(phones)\n",
    "    root.add_child(televisions)\n",
    "    \n",
    "\n",
    "    return root"
   ]
  },
  {
   "cell_type": "code",
   "execution_count": 3,
   "id": "09a77357-4a54-40cf-9e7c-2f788e1e8d73",
   "metadata": {},
   "outputs": [
    {
     "name": "stdout",
     "output_type": "stream",
     "text": [
      "|-- Electronics\n",
      "   |-- laptop\n",
      "      |-- acer\n",
      "      |-- asuse\n",
      "      |-- apple\n",
      "      |-- msi\n",
      "   |-- phones\n",
      "      |-- samsung\n",
      "      |-- iphone\n",
      "      |-- xiaomi\n",
      "      |-- honor\n",
      "   |-- televisions\n",
      "      |-- samsung\n",
      "      |-- LG\n",
      "      |-- xiaomi\n"
     ]
    }
   ],
   "source": [
    "root = create_tree()\n",
    "root.print_tree()"
   ]
  },
  {
   "cell_type": "code",
   "execution_count": 4,
   "id": "7177686c-1fa4-443d-9d36-8221f941114e",
   "metadata": {},
   "outputs": [
    {
     "data": {
      "text/plain": [
       "True"
      ]
     },
     "execution_count": 4,
     "metadata": {},
     "output_type": "execute_result"
    }
   ],
   "source": [
    "root.search_child(\"msi\")"
   ]
  },
  {
   "cell_type": "code",
   "execution_count": 5,
   "id": "60fcfc47-01cb-472d-b026-cf33ed35513a",
   "metadata": {},
   "outputs": [
    {
     "data": {
      "text/plain": [
       "False"
      ]
     },
     "execution_count": 5,
     "metadata": {},
     "output_type": "execute_result"
    }
   ],
   "source": [
    "root.search_child(\"lenovo\")"
   ]
  },
  {
   "cell_type": "markdown",
   "id": "dea2fabb",
   "metadata": {},
   "source": [
    "# Binary Tree (part1)"
   ]
  },
  {
   "cell_type": "code",
   "execution_count": 19,
   "id": "9169047d-dd38-446f-b68d-123c84776034",
   "metadata": {},
   "outputs": [],
   "source": [
    "class Tree_node:\n",
    "    def __init__(self, data):\n",
    "        self.data = data\n",
    "        self.children = []\n",
    "        self.parent = None\n",
    "\n",
    "\n",
    "    def add_child(self, child):\n",
    "        self.children.append(child)\n",
    "        child.parent = self\n",
    "\n",
    "\n",
    "    def get_lvl(self):\n",
    "        level = 0\n",
    "        p = self.parent\n",
    "        while p:\n",
    "            level +=1\n",
    "            p = p.parent\n",
    "        return level\n",
    "\n",
    "    \n",
    "    def print_tree(self):\n",
    "        spaces = \"   \" * self.get_lvl()\n",
    "        perfix = spaces + \"|--\" if self.parent else \"|--\"\n",
    "        print(perfix, self.data)\n",
    "        for child in self.children:\n",
    "            child.print_tree()\n",
    "\n",
    "\n",
    "    def search_child(self, key):\n",
    "        if self.data == key:\n",
    "            return True\n",
    "        else:\n",
    "            for child in self.children:\n",
    "                found = child.search_child(key)\n",
    "                if found:\n",
    "                    return True\n",
    "            return False\n",
    "  \n",
    "    def height(self):\n",
    "        if len(self.children) == 0:\n",
    "            return 0\n",
    "        max_height = -1\n",
    "        for child in self.children:\n",
    "            max_height = max(max_height, child.height())\n",
    "        return max_height + 1\n",
    "\n",
    "\n",
    "    def isbinary(self):\n",
    "        if len(self.children) > 2:\n",
    "            return False\n",
    "        if len(self.children) == 0:\n",
    "            return True\n",
    "        for child in self.children:\n",
    "            if not child.isbinary():\n",
    "                return False\n",
    "            return True\n",
    "            "
   ]
  },
  {
   "cell_type": "code",
   "execution_count": 24,
   "id": "b72146e5",
   "metadata": {},
   "outputs": [],
   "source": [
    "def create_tree():\n",
    "    root = Tree_node(15)\n",
    "    root.add_child(Tree_node(4))\n",
    "    root.add_child(Tree_node(2))\n",
    "\n",
    "    root.children[0].add_child(Tree_node(1))\n",
    "    root.children[0].add_child(Tree_node(8))\n",
    "    root.children[0].add_child(Tree_node(7))\n",
    "    root.children[0].children[0].add_child(Tree_node(99))\n",
    "\n",
    "    \n",
    "\n",
    "    return root"
   ]
  },
  {
   "cell_type": "code",
   "execution_count": 25,
   "id": "372d96d6",
   "metadata": {},
   "outputs": [
    {
     "name": "stdout",
     "output_type": "stream",
     "text": [
      "|-- 15\n",
      "   |-- 4\n",
      "      |-- 1\n",
      "         |-- 99\n",
      "      |-- 8\n",
      "      |-- 7\n",
      "   |-- 2\n"
     ]
    }
   ],
   "source": [
    "root = create_tree()\n",
    "root.print_tree()"
   ]
  },
  {
   "cell_type": "code",
   "execution_count": 26,
   "id": "a6fa9b57",
   "metadata": {},
   "outputs": [
    {
     "data": {
      "text/plain": [
       "3"
      ]
     },
     "execution_count": 26,
     "metadata": {},
     "output_type": "execute_result"
    }
   ],
   "source": [
    "root.height()"
   ]
  },
  {
   "cell_type": "code",
   "execution_count": 27,
   "id": "7149f753-d62e-474e-99e0-0d6a804784f5",
   "metadata": {},
   "outputs": [
    {
     "data": {
      "text/plain": [
       "True"
      ]
     },
     "execution_count": 27,
     "metadata": {},
     "output_type": "execute_result"
    }
   ],
   "source": [
    "root.isbinary()"
   ]
  },
  {
   "cell_type": "code",
   "execution_count": null,
   "id": "f10a1c5e-09d1-43a7-95a2-bfde5fe71c12",
   "metadata": {},
   "outputs": [],
   "source": []
  },
  {
   "cell_type": "code",
   "execution_count": null,
   "id": "48719cb0-fa32-4238-94bc-cdd23cd9b6f6",
   "metadata": {},
   "outputs": [],
   "source": []
  },
  {
   "cell_type": "code",
   "execution_count": 41,
   "id": "ec5e32a9",
   "metadata": {},
   "outputs": [],
   "source": [
    "class Binary_tree:\n",
    "     def __init__(self, data):\n",
    "         self.data = data\n",
    "         self.left = None\n",
    "         self.right = None\n",
    "\n",
    "\n",
    "     def add_child(self, data):\n",
    "         if type(data) != Binary_tree:\n",
    "             data = Binary_tree(data)\n",
    "         if self.left is None:\n",
    "             self.left = data\n",
    "         elif self.right is None:\n",
    "             self.right = data\n",
    "         else:\n",
    "             self.left.add_child(data)\n",
    "\n",
    "def isstrict(root):\n",
    "    if root is None:\n",
    "        return True\n",
    "    if root.left==None and root.right==None:\n",
    "        return True\n",
    "    if root.left is not None and root.right is not None:\n",
    "        return isstrict(root.left) and isstrict(root.right)\n",
    "    return False\n",
    "\n",
    "\n",
    "def countNodes(root):\n",
    "    if root is None:\n",
    "        return 0\n",
    "    return (1+countNodes(root.left) + 1+countNodes(root.right))\n",
    "\n",
    "\n",
    "def iscomplete(root, index, number_nodes):\n",
    "    if root is None:\n",
    "        return True\n",
    "    if index >= number_nodes:\n",
    "        return False\n",
    "    return (iscomplete(root.left, 2*index+1, number_nodes) and iscomplete(root.right, 2*index+2, number_nodes))"
   ]
  },
  {
   "cell_type": "code",
   "execution_count": 49,
   "id": "16fc06ff-3c5e-4088-a580-4ab44b0f5d38",
   "metadata": {},
   "outputs": [],
   "source": [
    "root = Binary_tree(9)\n",
    "root.add_child(3)\n",
    "root.add_child(4)\n",
    "# root.add_child(5)\n",
    "# root.add_child(6)"
   ]
  },
  {
   "cell_type": "code",
   "execution_count": 51,
   "id": "2b76797d-4d23-43b1-be94-cd9699e619b2",
   "metadata": {},
   "outputs": [
    {
     "name": "stdout",
     "output_type": "stream",
     "text": [
      "9\n",
      "3\n",
      "4\n"
     ]
    }
   ],
   "source": [
    "print(root.data)\n",
    "print(root.left.data)\n",
    "print(root.right.data)\n",
    "# print(root.left.left.data)\n",
    "# print(root.left.right.data)"
   ]
  },
  {
   "cell_type": "code",
   "execution_count": 52,
   "id": "ad54df69-c0da-4dee-a83e-26c921155832",
   "metadata": {},
   "outputs": [
    {
     "data": {
      "text/plain": [
       "True"
      ]
     },
     "execution_count": 52,
     "metadata": {},
     "output_type": "execute_result"
    }
   ],
   "source": [
    "isstrict(root)"
   ]
  },
  {
   "cell_type": "code",
   "execution_count": 53,
   "id": "6204b74c-3d9b-4c56-9bc8-0b39e37ffbf4",
   "metadata": {},
   "outputs": [
    {
     "name": "stdout",
     "output_type": "stream",
     "text": [
      "the binary tree is complete.\n"
     ]
    }
   ],
   "source": [
    "nodes_count = countNodes(root)\n",
    "index = 0\n",
    "if iscomplete(root, index, nodes_count):\n",
    "    print(\"the binary tree is complete.\")\n",
    "else:\n",
    "    print(\"the binary tree is not complete\")"
   ]
  },
  {
   "cell_type": "markdown",
   "id": "352486b6",
   "metadata": {},
   "source": [
    "# Binary Tree (part2 | binary search tree)"
   ]
  },
  {
   "attachments": {
    "00047b6c-d251-4ba0-abb3-170516030535.png": {
     "image/png": "[encoded data removed]"
    }
   },
   "cell_type": "markdown",
   "id": "f85a88b3-c52c-43e0-b14b-9f171fa2fbfd",
   "metadata": {},
   "source": [
    "![binary_search_tree.png](attachment:00047b6c-d251-4ba0-abb3-170516030535.png)"
   ]
  },
  {
   "cell_type": "markdown",
   "id": "651d0e27-0d33-4a2f-967b-aa26fe53b274",
   "metadata": {},
   "source": [
    "**visualizer website binary search tree:**\n",
    "\n",
    "- https://www.cs.usfca.edu/~galles/visualization/BST.html\n",
    "\n",
    "- https://tree-visualizer.netlify.app/"
   ]
  },
  {
   "cell_type": "code",
   "execution_count": 58,
   "id": "5e606e9c-93d0-4cd8-8949-272ed655548a",
   "metadata": {},
   "outputs": [],
   "source": [
    "class Binary_search_tree:\n",
    "    def __init__(self, data):\n",
    "        self.data = data\n",
    "        self.left = None\n",
    "        self.right = None\n",
    "    \n",
    "    def add(self, val):\n",
    "        if self.data == val:\n",
    "            return\n",
    "        \n",
    "        elif self.data > val:\n",
    "            if self.left == None:\n",
    "                self.left = Binary_search_tree(val)\n",
    "            else:\n",
    "                self.left.add(val)\n",
    "            \n",
    "        else:\n",
    "            if self.right == None:\n",
    "                self.right = Binary_search_tree(val)\n",
    "            else:\n",
    "                self.right.add(val)\n",
    "\n",
    "\n",
    "    def search(self, val):\n",
    "        if self.data == val:\n",
    "            return True\n",
    "        elif self.data > val:\n",
    "            if self.left:\n",
    "                return self.left.search(val)\n",
    "            else:\n",
    "                return False\n",
    "        else:\n",
    "            if self.right:\n",
    "                return self.right.search(val)\n",
    "            else:\n",
    "                return False\n",
    "            \n",
    "\n",
    "    def inorder_traversal(self): # low to high sort\n",
    "        # Left-Node-Right\n",
    "        elements = []\n",
    "        if self.left:\n",
    "            elements += self.left.inorder_traversal()\n",
    "        elements.append(self.data)\n",
    "\n",
    "        if self.right:\n",
    "            elements += self.right.inorder_traversal()\n",
    "            \n",
    "        return elements\n",
    "\n",
    "    def preorder_traversal(self):\n",
    "        # Node-left-Right\n",
    "        elements = []\n",
    "        elements.append(self.data)\n",
    "        if self.left:\n",
    "            elements += self.left.preorder_traversal()\n",
    "\n",
    "        if self.right:\n",
    "            elements += self.right.preorder_traversal()\n",
    "        \n",
    "        return elements\n",
    "\n",
    "    def postorder_traversal(self):\n",
    "        # Left-Right-Node\n",
    "        elements = []\n",
    "        if self.left:\n",
    "            elements += self.left.postorder_traversal()\n",
    "\n",
    "        if self.right:\n",
    "            elements += self.right.postorder_traversal()\n",
    "        \n",
    "        elements.append(self.data)\n",
    "    \n",
    "        return elements\n",
    "\n",
    "\n",
    "    def reverse(self):\n",
    "        self.right, self.left = self.left, self.right\n",
    "\n",
    "        if self.left:\n",
    "            return self.left.reverse()\n",
    "\n",
    "        if self.right:\n",
    "            return self.right.reverse()\n",
    "         "
   ]
  },
  {
   "cell_type": "code",
   "execution_count": 70,
   "id": "c4fe06bf-e7ca-4a3a-a43f-7fb6a3121c42",
   "metadata": {},
   "outputs": [],
   "source": [
    "elements = [12, 10, 16, 15, 17, 5, 11]\n",
    "root = Binary_search_tree(elements[0])\n",
    "\n",
    "for i in elements[1:]:\n",
    "    root.add(i)"
   ]
  },
  {
   "cell_type": "code",
   "execution_count": 71,
   "id": "74c2b2f7",
   "metadata": {},
   "outputs": [
    {
     "name": "stdout",
     "output_type": "stream",
     "text": [
      "12\n",
      "10\n",
      "16\n"
     ]
    }
   ],
   "source": [
    "print(root.data)\n",
    "print(root.left.data)\n",
    "print(root.right.data)"
   ]
  },
  {
   "cell_type": "code",
   "execution_count": 72,
   "id": "78746e0d",
   "metadata": {},
   "outputs": [
    {
     "name": "stdout",
     "output_type": "stream",
     "text": [
      "[5, 10, 11, 12, 15, 16, 17]\n",
      "[12, 10, 5, 11, 16, 15, 17]\n",
      "[5, 11, 10, 15, 17, 16, 12]\n"
     ]
    }
   ],
   "source": [
    "print(root.inorder_traversal())\n",
    "print(root.preorder_traversal())\n",
    "print(root.postorder_traversal())"
   ]
  },
  {
   "cell_type": "code",
   "execution_count": 73,
   "id": "a31d3d5d-9944-40f6-9fef-900e5b674258",
   "metadata": {},
   "outputs": [
    {
     "name": "stdout",
     "output_type": "stream",
     "text": [
      "False\n",
      "True\n"
     ]
    }
   ],
   "source": [
    "print(root.search(20))\n",
    "print(root.search(12))"
   ]
  },
  {
   "cell_type": "code",
   "execution_count": 74,
   "id": "11f19c41-83a7-4bf5-8579-9966cac565b4",
   "metadata": {},
   "outputs": [
    {
     "name": "stdout",
     "output_type": "stream",
     "text": [
      "inorder_traversal --> [5, 10, 11, 12, 15, 16, 17]\n",
      "reverse --> [17, 16, 15, 12, 5, 10, 11]\n"
     ]
    }
   ],
   "source": [
    "print(f\"inorder_traversal --> {root.inorder_traversal()}\")\n",
    "root.reverse()\n",
    "print(f\"reverse --> {root.inorder_traversal()}\")"
   ]
  },
  {
   "cell_type": "code",
   "execution_count": null,
   "id": "1465d360-49c2-4754-a059-97b1210e204f",
   "metadata": {},
   "outputs": [],
   "source": []
  }
 ],
 "metadata": {
  "kernelspec": {
   "display_name": "Python 3 (ipykernel)",
   "language": "python",
   "name": "python3"
  },
  "language_info": {
   "codemirror_mode": {
    "name": "ipython",
    "version": 3
   },
   "file_extension": ".py",
   "mimetype": "text/x-python",
   "name": "python",
   "nbconvert_exporter": "python",
   "pygments_lexer": "ipython3",
   "version": "3.11.6"
  }
 },
 "nbformat": 4,
 "nbformat_minor": 5
}
