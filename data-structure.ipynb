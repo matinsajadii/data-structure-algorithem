{
 "cells": [
  {
   "cell_type": "markdown",
   "id": "e8e327d4",
   "metadata": {},
   "source": [
    "## Complexity: Time , Space"
   ]
  },
  {
   "cell_type": "code",
   "execution_count": 1,
   "id": "04ceb167",
   "metadata": {},
   "outputs": [],
   "source": [
    "import time\n",
    "import matplotlib.pyplot as plt"
   ]
  },
  {
   "cell_type": "code",
   "execution_count": 2,
   "id": "ed46961e",
   "metadata": {},
   "outputs": [],
   "source": [
    "start = time.time()"
   ]
  },
  {
   "cell_type": "code",
   "execution_count": 3,
   "id": "5317fe27",
   "metadata": {},
   "outputs": [
    {
     "data": {
      "text/plain": [
       "1714854111.9297678"
      ]
     },
     "execution_count": 3,
     "metadata": {},
     "output_type": "execute_result"
    }
   ],
   "source": [
    "start"
   ]
  },
  {
   "cell_type": "markdown",
   "id": "56ed07d5",
   "metadata": {},
   "source": [
    "## O(1)"
   ]
  },
  {
   "cell_type": "code",
   "execution_count": 4,
   "id": "cbbe25a8",
   "metadata": {},
   "outputs": [],
   "source": [
    "def my_function(x):\n",
    "    return x ** 2"
   ]
  },
  {
   "cell_type": "code",
   "execution_count": 5,
   "id": "8c5303e4",
   "metadata": {},
   "outputs": [
    {
     "data": {
      "text/plain": [
       "25"
      ]
     },
     "execution_count": 5,
     "metadata": {},
     "output_type": "execute_result"
    }
   ],
   "source": [
    "my_function(5)"
   ]
  },
  {
   "cell_type": "code",
   "execution_count": 6,
   "id": "92b3a907",
   "metadata": {},
   "outputs": [],
   "source": [
    "end = time.time()"
   ]
  },
  {
   "cell_type": "code",
   "execution_count": 7,
   "id": "4594f0f1",
   "metadata": {},
   "outputs": [
    {
     "name": "stdout",
     "output_type": "stream",
     "text": [
      "0.008595943450927734\n"
     ]
    }
   ],
   "source": [
    "print(end - start)"
   ]
  },
  {
   "cell_type": "markdown",
   "id": "55777dc2",
   "metadata": {},
   "source": [
    "## Find a max number in the list\n",
    "\n",
    "## O(n):  number of input has not impact in our operation"
   ]
  },
  {
   "cell_type": "code",
   "execution_count": 8,
   "id": "f11efdf1",
   "metadata": {},
   "outputs": [],
   "source": [
    "start = time.time()"
   ]
  },
  {
   "cell_type": "code",
   "execution_count": 9,
   "id": "bfa1ad20",
   "metadata": {},
   "outputs": [],
   "source": [
    "def my_function_2(_list):\n",
    "    \n",
    "    _max = 0\n",
    "    for i in range(len(_list)):\n",
    "        if _list[i] > _list[_max]:\n",
    "            _max = i\n",
    "    return _list[_max]\n",
    "        "
   ]
  },
  {
   "cell_type": "code",
   "execution_count": 10,
   "id": "73645ae1",
   "metadata": {},
   "outputs": [],
   "source": [
    "b = [4, 2, 1, 7, 8, -3, 0, 2, 3, 9, 7]"
   ]
  },
  {
   "cell_type": "code",
   "execution_count": 11,
   "id": "c1262e6d",
   "metadata": {},
   "outputs": [
    {
     "data": {
      "text/plain": [
       "9"
      ]
     },
     "execution_count": 11,
     "metadata": {},
     "output_type": "execute_result"
    }
   ],
   "source": [
    "my_function_2(b)"
   ]
  },
  {
   "cell_type": "code",
   "execution_count": 12,
   "id": "cf2c23eb",
   "metadata": {},
   "outputs": [],
   "source": [
    "end = time.time()"
   ]
  },
  {
   "cell_type": "code",
   "execution_count": 13,
   "id": "d84da92d",
   "metadata": {},
   "outputs": [
    {
     "name": "stdout",
     "output_type": "stream",
     "text": [
      "0.006582975387573242\n"
     ]
    }
   ],
   "source": [
    "print(end - start)"
   ]
  },
  {
   "cell_type": "markdown",
   "id": "eb87881c",
   "metadata": {},
   "source": [
    "## Find duplicated number in a list"
   ]
  },
  {
   "cell_type": "markdown",
   "id": "25ce2313",
   "metadata": {},
   "source": [
    "## O(n^2)"
   ]
  },
  {
   "cell_type": "code",
   "execution_count": 14,
   "id": "f307044a",
   "metadata": {},
   "outputs": [],
   "source": [
    "def my_function_3(_list):\n",
    "    \n",
    "    for i in range(len(_list) - 1):\n",
    "        for j in range(i+1, len(_list)):\n",
    "            if _list[i] == _list[j]:\n",
    "                print(f'found {_list[i]}')\n",
    "            "
   ]
  },
  {
   "cell_type": "code",
   "execution_count": 15,
   "id": "bf77dcb0",
   "metadata": {},
   "outputs": [
    {
     "name": "stdout",
     "output_type": "stream",
     "text": [
      "found 2\n",
      "found 7\n"
     ]
    }
   ],
   "source": [
    "my_function_3(b)"
   ]
  },
  {
   "cell_type": "markdown",
   "id": "f7a44703",
   "metadata": {},
   "source": [
    "## Find the index in one list\n",
    "## O(n)"
   ]
  },
  {
   "cell_type": "code",
   "execution_count": 16,
   "id": "c0c29a01",
   "metadata": {},
   "outputs": [],
   "source": [
    "def find_index(_list, item):\n",
    "    for i in _list:\n",
    "        if i == item:\n",
    "            index = _list.index(item)\n",
    "            return(index)\n",
    "    "
   ]
  },
  {
   "cell_type": "code",
   "execution_count": 17,
   "id": "49b175bb",
   "metadata": {},
   "outputs": [
    {
     "data": {
      "text/plain": [
       "[4, 2, 1, 7, 8, -3, 0, 2, 3, 9, 7]"
      ]
     },
     "execution_count": 17,
     "metadata": {},
     "output_type": "execute_result"
    }
   ],
   "source": [
    "b"
   ]
  },
  {
   "cell_type": "code",
   "execution_count": 18,
   "id": "b96b0020",
   "metadata": {},
   "outputs": [
    {
     "data": {
      "text/plain": [
       "6"
      ]
     },
     "execution_count": 18,
     "metadata": {},
     "output_type": "execute_result"
    }
   ],
   "source": [
    "find_index(b, 0)"
   ]
  },
  {
   "cell_type": "markdown",
   "id": "4085bddf",
   "metadata": {},
   "source": [
    "## Find the first even number in the list\n",
    "## O(1)"
   ]
  },
  {
   "cell_type": "code",
   "execution_count": 19,
   "id": "360a06a7",
   "metadata": {},
   "outputs": [],
   "source": [
    "def show_even(_list):\n",
    "    if _list[0] % 2 == 0:\n",
    "        return 'Even'\n",
    "    else:\n",
    "        return 'Odd'\n",
    "    "
   ]
  },
  {
   "cell_type": "code",
   "execution_count": 20,
   "id": "9ef9871f",
   "metadata": {},
   "outputs": [
    {
     "data": {
      "text/plain": [
       "'Even'"
      ]
     },
     "execution_count": 20,
     "metadata": {},
     "output_type": "execute_result"
    }
   ],
   "source": [
    "show_even(b)"
   ]
  },
  {
   "cell_type": "markdown",
   "id": "e3171f4c",
   "metadata": {},
   "source": [
    "## Find the index of specific number in a list\n",
    "## O(logn)"
   ]
  },
  {
   "cell_type": "code",
   "execution_count": 21,
   "id": "71e7e4d6",
   "metadata": {},
   "outputs": [],
   "source": [
    "nums = [1, 4, 7, 10, 14, 17, 22, 47]"
   ]
  },
  {
   "cell_type": "code",
   "execution_count": 22,
   "id": "0ee4831e",
   "metadata": {},
   "outputs": [],
   "source": [
    "def show(lst, elm):\n",
    "    for i in lst:\n",
    "        if i == elm:\n",
    "            return lst.index(i)"
   ]
  },
  {
   "cell_type": "code",
   "execution_count": 23,
   "id": "f2380857",
   "metadata": {},
   "outputs": [
    {
     "data": {
      "text/plain": [
       "5"
      ]
     },
     "execution_count": 23,
     "metadata": {},
     "output_type": "execute_result"
    }
   ],
   "source": [
    "show(nums, 17)"
   ]
  },
  {
   "cell_type": "markdown",
   "id": "ec70f528",
   "metadata": {},
   "source": [
    "## Selected Sort"
   ]
  },
  {
   "cell_type": "markdown",
   "id": "a5961a13",
   "metadata": {},
   "source": [
    "<img src='https://he-s3.s3.amazonaws.com/media/uploads/2888f5b.png'>"
   ]
  },
  {
   "cell_type": "code",
   "execution_count": 24,
   "id": "898edeba",
   "metadata": {},
   "outputs": [],
   "source": [
    "lst = [7, 5, 4, 9]"
   ]
  },
  {
   "cell_type": "code",
   "execution_count": 25,
   "id": "64d52452",
   "metadata": {},
   "outputs": [],
   "source": [
    "start = time.time()"
   ]
  },
  {
   "cell_type": "code",
   "execution_count": 125,
   "id": "a7140310",
   "metadata": {},
   "outputs": [],
   "source": [
    "for i in range(len(lst)-1):\n",
    "    _min = i\n",
    "    for j in range(i+1, len(lst)):\n",
    "        if lst[i] > lst[j]:\n",
    "            lst[i], lst[j] = lst[j], lst[i]\n",
    "        print(lst)\n",
    "        \n",
    "    plt.bar(range(len(lst), lst))\n",
    "        "
   ]
  },
  {
   "cell_type": "code",
   "execution_count": 28,
   "id": "feebd33e",
   "metadata": {},
   "outputs": [],
   "source": [
    "end = time.time()"
   ]
  },
  {
   "cell_type": "code",
   "execution_count": 29,
   "id": "15925dfa",
   "metadata": {},
   "outputs": [
    {
     "data": {
      "text/plain": [
       "22.34098219871521"
      ]
     },
     "execution_count": 29,
     "metadata": {},
     "output_type": "execute_result"
    }
   ],
   "source": [
    "end-start"
   ]
  },
  {
   "cell_type": "markdown",
   "id": "bfbb0d5d",
   "metadata": {},
   "source": [
    "## Bouble Sort : O(n2)"
   ]
  },
  {
   "cell_type": "markdown",
   "id": "0c7b37d1",
   "metadata": {},
   "source": [
    "<img src=\"https://www.w3resource.com/w3r_images/bubble-short.png\" >"
   ]
  },
  {
   "cell_type": "code",
   "execution_count": 30,
   "id": "2b3cc2a8",
   "metadata": {},
   "outputs": [],
   "source": [
    "import random"
   ]
  },
  {
   "cell_type": "code",
   "execution_count": 31,
   "id": "0121f1bb",
   "metadata": {},
   "outputs": [],
   "source": [
    "# length = 15\n",
    "# _lst = [random.randint(0, length) for i in range(length)]"
   ]
  },
  {
   "cell_type": "code",
   "execution_count": 32,
   "id": "65ef01f8",
   "metadata": {},
   "outputs": [],
   "source": [
    "lst = [7, 5, 4, 9, 6, 0, 4, 10, 2]"
   ]
  },
  {
   "cell_type": "code",
   "execution_count": 33,
   "id": "49a0bfec",
   "metadata": {},
   "outputs": [
    {
     "name": "stdout",
     "output_type": "stream",
     "text": [
      "[0, 2, 4, 4, 5, 6, 7, 9, 10]\n"
     ]
    }
   ],
   "source": [
    "for i in range(len(lst)-1):\n",
    "    flag = True\n",
    "    \n",
    "    for j in range(len(lst) -i -1):\n",
    "        if lst[j] > lst[j+1]:\n",
    "            lst[j], lst[j+1] = lst[j+1], lst[j]\n",
    "            flag = False\n",
    "            \n",
    "    if flag:\n",
    "        break\n",
    "            \n",
    "            \n",
    "print(lst)\n",
    "            "
   ]
  },
  {
   "cell_type": "markdown",
   "id": "352b86b1",
   "metadata": {},
   "source": [
    "## Insertion Sort : O(n^2)"
   ]
  },
  {
   "cell_type": "code",
   "execution_count": 34,
   "id": "31f5a37a",
   "metadata": {},
   "outputs": [],
   "source": [
    "from random import shuffle"
   ]
  },
  {
   "cell_type": "code",
   "execution_count": 35,
   "id": "2dab5e96",
   "metadata": {},
   "outputs": [],
   "source": [
    "length = 10"
   ]
  },
  {
   "cell_type": "code",
   "execution_count": 36,
   "id": "0f15c3cc",
   "metadata": {},
   "outputs": [],
   "source": [
    "lst = [random.randint(i, length) for i in range(length)]"
   ]
  },
  {
   "cell_type": "code",
   "execution_count": 37,
   "id": "03c699dc",
   "metadata": {},
   "outputs": [
    {
     "data": {
      "text/plain": [
       "[0, 9, 2, 6, 5, 8, 10, 8, 8, 10]"
      ]
     },
     "execution_count": 37,
     "metadata": {},
     "output_type": "execute_result"
    }
   ],
   "source": [
    "lst"
   ]
  },
  {
   "cell_type": "code",
   "execution_count": 38,
   "id": "eacee68e",
   "metadata": {},
   "outputs": [],
   "source": [
    "shuffle(lst)"
   ]
  },
  {
   "cell_type": "code",
   "execution_count": 39,
   "id": "3ac28869",
   "metadata": {},
   "outputs": [
    {
     "data": {
      "text/plain": [
       "[8, 9, 0, 2, 5, 8, 10, 10, 8, 6]"
      ]
     },
     "execution_count": 39,
     "metadata": {},
     "output_type": "execute_result"
    }
   ],
   "source": [
    "lst"
   ]
  },
  {
   "cell_type": "code",
   "execution_count": 40,
   "id": "df5e5d2a",
   "metadata": {},
   "outputs": [],
   "source": [
    "lst_1 = [3, 2, 1, 4]"
   ]
  },
  {
   "cell_type": "code",
   "execution_count": 41,
   "id": "8f71a9ae",
   "metadata": {},
   "outputs": [],
   "source": [
    "shuffle(lst_1)"
   ]
  },
  {
   "cell_type": "code",
   "execution_count": 42,
   "id": "b30f50d3",
   "metadata": {},
   "outputs": [
    {
     "data": {
      "text/plain": [
       "[1, 4, 3, 2]"
      ]
     },
     "execution_count": 42,
     "metadata": {},
     "output_type": "execute_result"
    }
   ],
   "source": [
    "lst_1"
   ]
  },
  {
   "cell_type": "markdown",
   "id": "b46c5b63",
   "metadata": {},
   "source": [
    "### First Method (space complexity = O(n^2))"
   ]
  },
  {
   "cell_type": "code",
   "execution_count": 126,
   "id": "19223333",
   "metadata": {},
   "outputs": [],
   "source": [
    "lst_2 = []\n",
    "for i in lst_1:    \n",
    "    for j in range(len(lst_2)):\n",
    "        if i < lst_2[j]:\n",
    "            lst_2.insert(j, i)\n",
    "            break\n",
    "                \n",
    "    else:\n",
    "        lst_2.append(i)\n",
    "        \n",
    "                "
   ]
  },
  {
   "cell_type": "code",
   "execution_count": 127,
   "id": "e2bbb83d",
   "metadata": {},
   "outputs": [
    {
     "data": {
      "text/plain": [
       "[3, 5, 6, 6, 6, 7, 8, 8, 9, 9]"
      ]
     },
     "execution_count": 127,
     "metadata": {},
     "output_type": "execute_result"
    }
   ],
   "source": [
    "lst_2"
   ]
  },
  {
   "cell_type": "markdown",
   "id": "0862dfed",
   "metadata": {},
   "source": [
    "### Second Method (space complexity = O(1))"
   ]
  },
  {
   "cell_type": "markdown",
   "id": "bab89627",
   "metadata": {},
   "source": [
    "<img src='https://miro.medium.com/v2/resize:fit:765/0*1zi2XtjiLXa3LYZh.PNG'>"
   ]
  },
  {
   "cell_type": "code",
   "execution_count": 45,
   "id": "0313fcdf",
   "metadata": {},
   "outputs": [],
   "source": [
    "lst_1 = [6, 5, 9, 8, 6, 9, 8, 7, 3, 6]"
   ]
  },
  {
   "cell_type": "code",
   "execution_count": 46,
   "id": "79448839",
   "metadata": {},
   "outputs": [],
   "source": [
    "for i in range(1, len(lst_1)):\n",
    "    for j in range(i):\n",
    "        if lst_1[i] < lst_1[j]:\n",
    "            temp = lst_1[i]\n",
    "            del lst_1[i]\n",
    "            lst_1.insert(j, temp)\n",
    "            break\n",
    "            "
   ]
  },
  {
   "cell_type": "code",
   "execution_count": 47,
   "id": "01c53348",
   "metadata": {},
   "outputs": [
    {
     "data": {
      "text/plain": [
       "[3, 5, 6, 6, 6, 7, 8, 8, 9, 9]"
      ]
     },
     "execution_count": 47,
     "metadata": {},
     "output_type": "execute_result"
    }
   ],
   "source": [
    "lst_1"
   ]
  },
  {
   "cell_type": "markdown",
   "id": "06f62b5b",
   "metadata": {},
   "source": [
    "## Merg Algorithem"
   ]
  },
  {
   "cell_type": "code",
   "execution_count": 48,
   "id": "6c085e21",
   "metadata": {},
   "outputs": [],
   "source": [
    "lst1 = [0, 2, 4, 5, 6, 8]\n",
    "lst2 = [0, 1, 2, 2, 8, 9, 13]"
   ]
  },
  {
   "cell_type": "code",
   "execution_count": 49,
   "id": "b7403bb5",
   "metadata": {},
   "outputs": [],
   "source": [
    "def merge(lst1, lst2):\n",
    "    \n",
    "    lst3 = []    \n",
    "    i = j = 0\n",
    "\n",
    "    while i < len(lst1) and j < len(lst2):\n",
    "        if lst1[i] < lst2[j]:\n",
    "            lst3.append(lst1[i])\n",
    "            i += 1\n",
    "\n",
    "        else:\n",
    "            lst3.append(lst2[j])\n",
    "            j += 1\n",
    "\n",
    "    lst3 += lst1[i:]\n",
    "    lst3 += lst2[j:]\n",
    "    return lst3\n"
   ]
  },
  {
   "cell_type": "code",
   "execution_count": 50,
   "id": "a5413223",
   "metadata": {},
   "outputs": [
    {
     "data": {
      "text/plain": [
       "[0, 0, 1, 2, 2, 2, 4, 5, 6, 8, 8, 9, 13]"
      ]
     },
     "execution_count": 50,
     "metadata": {},
     "output_type": "execute_result"
    }
   ],
   "source": [
    "merge(lst1, lst2)"
   ]
  },
  {
   "cell_type": "code",
   "execution_count": 51,
   "id": "c8f4c28b",
   "metadata": {},
   "outputs": [],
   "source": [
    "_list = [i for i in range(10)]\n",
    "shuffle(_list)"
   ]
  },
  {
   "cell_type": "code",
   "execution_count": 52,
   "id": "bc4e06bb",
   "metadata": {},
   "outputs": [
    {
     "data": {
      "text/plain": [
       "[2, 6, 7, 9, 0, 8, 1, 4, 5, 3]"
      ]
     },
     "execution_count": 52,
     "metadata": {},
     "output_type": "execute_result"
    }
   ],
   "source": [
    "_list"
   ]
  },
  {
   "cell_type": "code",
   "execution_count": 53,
   "id": "5a107988",
   "metadata": {},
   "outputs": [],
   "source": [
    "def sort_merge(lst):\n",
    "    \n",
    "    if len(lst) == 1:\n",
    "        return lst\n",
    "    \n",
    "    else:\n",
    "        mid = len(lst) // 2\n",
    "        left = lst[:mid]\n",
    "        right = lst[mid:]\n",
    "        \n",
    "    left = sort_merge(left)\n",
    "    right = sort_merge(right)\n",
    "    \n",
    "    return(merge(left, right))\n",
    "    "
   ]
  },
  {
   "cell_type": "code",
   "execution_count": 54,
   "id": "b9b8fb2d",
   "metadata": {},
   "outputs": [
    {
     "data": {
      "text/plain": [
       "[0, 1, 2, 3, 4, 5, 6, 7, 8, 9]"
      ]
     },
     "execution_count": 54,
     "metadata": {},
     "output_type": "execute_result"
    }
   ],
   "source": [
    "sort_merge(_list)"
   ]
  },
  {
   "cell_type": "markdown",
   "id": "82412d29",
   "metadata": {},
   "source": [
    "## Quick Sort O(nlog(n))"
   ]
  },
  {
   "cell_type": "code",
   "execution_count": 55,
   "id": "a6e883d7",
   "metadata": {},
   "outputs": [],
   "source": [
    "lst = [i for i in range(10)]"
   ]
  },
  {
   "cell_type": "code",
   "execution_count": 56,
   "id": "455c29d0",
   "metadata": {},
   "outputs": [],
   "source": [
    "lst = [3, 4, 5, 6, 9, 1]"
   ]
  },
  {
   "cell_type": "code",
   "execution_count": 57,
   "id": "66041bcb",
   "metadata": {},
   "outputs": [],
   "source": [
    "def quick_sort(_list, low, high):\n",
    "    if low < high:\n",
    "        pivot = low\n",
    "        i = low \n",
    "        j = high\n",
    "        \n",
    "        while i < j:\n",
    "            while _list[i] <= _list[pivot] and i < high:\n",
    "                i+=1\n",
    "                print(f'i: {_list[i]}, j={_list[j]}')\n",
    "                print('***************')\n",
    "            while _list[j] > _list[pivot]:\n",
    "                j-=1\n",
    "                print(f'i: {_list[i]}, j={_list[j]}')\n",
    "                print('***************')\n",
    "                \n",
    "            if i<j:\n",
    "                _list[i], _list[j] = _list[j], _list[i]\n",
    "                print(f'i: {_list[i]}, j={_list[j]}')\n",
    "                print('***************')\n",
    "                \n",
    "        _list[j], _list[pivot] = _list[pivot], _list[j]\n",
    "        \n",
    "        quick_sort(_list, low, j-1)\n",
    "        quick_sort(_list, j+1, high)\n",
    "        \n",
    "    return _list\n",
    "            "
   ]
  },
  {
   "cell_type": "markdown",
   "id": "6749a0dd",
   "metadata": {},
   "source": [
    "# lst = [3, 4, 5, 6, 9, 1]"
   ]
  },
  {
   "cell_type": "code",
   "execution_count": 58,
   "id": "02ef9d97",
   "metadata": {},
   "outputs": [
    {
     "name": "stdout",
     "output_type": "stream",
     "text": [
      "i: 4, j=1\n",
      "***************\n",
      "i: 1, j=4\n",
      "***************\n",
      "i: 5, j=4\n",
      "***************\n",
      "i: 5, j=9\n",
      "***************\n",
      "i: 5, j=6\n",
      "***************\n",
      "i: 5, j=5\n",
      "***************\n",
      "i: 5, j=1\n",
      "***************\n",
      "i: 6, j=4\n",
      "***************\n",
      "i: 4, j=6\n",
      "***************\n",
      "i: 9, j=6\n",
      "***************\n",
      "i: 9, j=9\n",
      "***************\n",
      "i: 9, j=4\n",
      "***************\n",
      "i: 6, j=6\n",
      "***************\n"
     ]
    },
    {
     "data": {
      "text/plain": [
       "[1, 3, 4, 5, 6, 9]"
      ]
     },
     "execution_count": 58,
     "metadata": {},
     "output_type": "execute_result"
    }
   ],
   "source": [
    "quick_sort(lst, 0, len(lst)-1)"
   ]
  },
  {
   "cell_type": "markdown",
   "id": "fe2b05b9",
   "metadata": {},
   "source": [
    "## Linear Search O(n)"
   ]
  },
  {
   "cell_type": "code",
   "execution_count": 59,
   "id": "8ba12d6a",
   "metadata": {},
   "outputs": [],
   "source": [
    "lst = [2, 1, 5, 8, 3, 9, 4, 6, 5]"
   ]
  },
  {
   "cell_type": "code",
   "execution_count": 60,
   "id": "812f99a7",
   "metadata": {},
   "outputs": [
    {
     "name": "stdout",
     "output_type": "stream",
     "text": [
      "Enter the number\n"
     ]
    },
    {
     "ename": "ValueError",
     "evalue": "invalid literal for int() with base 10: ''",
     "output_type": "error",
     "traceback": [
      "\u001b[0;31m---------------------------------------------------------------------------\u001b[0m",
      "\u001b[0;31mValueError\u001b[0m                                Traceback (most recent call last)",
      "Cell \u001b[0;32mIn[60], line 1\u001b[0m\n\u001b[0;32m----> 1\u001b[0m k \u001b[38;5;241m=\u001b[39m \u001b[38;5;28mint\u001b[39m(\u001b[38;5;28minput\u001b[39m(\u001b[38;5;124m\"\u001b[39m\u001b[38;5;124mEnter the number\u001b[39m\u001b[38;5;124m\"\u001b[39m))\n",
      "\u001b[0;31mValueError\u001b[0m: invalid literal for int() with base 10: ''"
     ]
    }
   ],
   "source": [
    " k = int(input(\"Enter the number\"))"
   ]
  },
  {
   "cell_type": "code",
   "execution_count": 61,
   "id": "f551010c",
   "metadata": {},
   "outputs": [
    {
     "ename": "NameError",
     "evalue": "name 'k' is not defined",
     "output_type": "error",
     "traceback": [
      "\u001b[0;31m---------------------------------------------------------------------------\u001b[0m",
      "\u001b[0;31mNameError\u001b[0m                                 Traceback (most recent call last)",
      "Cell \u001b[0;32mIn[61], line 2\u001b[0m\n\u001b[1;32m      1\u001b[0m \u001b[38;5;28;01mfor\u001b[39;00m i \u001b[38;5;129;01min\u001b[39;00m lst:\n\u001b[0;32m----> 2\u001b[0m     \u001b[38;5;28;01mif\u001b[39;00m i \u001b[38;5;241m==\u001b[39m k:\n\u001b[1;32m      3\u001b[0m         \u001b[38;5;28mprint\u001b[39m(\u001b[38;5;124m'\u001b[39m\u001b[38;5;124mFound\u001b[39m\u001b[38;5;124m'\u001b[39m)\n\u001b[1;32m      4\u001b[0m         \u001b[38;5;28;01mbreak\u001b[39;00m\n",
      "\u001b[0;31mNameError\u001b[0m: name 'k' is not defined"
     ]
    }
   ],
   "source": [
    "for i in lst:\n",
    "    if i == k:\n",
    "        print('Found')\n",
    "        break\n",
    "else:\n",
    "    print('Not Found')"
   ]
  },
  {
   "cell_type": "markdown",
   "id": "d9e6844e",
   "metadata": {},
   "source": [
    "## Binary Search O(nlog(n)) (for sorted list)"
   ]
  },
  {
   "cell_type": "code",
   "execution_count": 62,
   "id": "d02c5a70",
   "metadata": {},
   "outputs": [],
   "source": [
    "lst = [1, 3, 5, 6, 7, 9, 10]"
   ]
  },
  {
   "cell_type": "code",
   "execution_count": 63,
   "id": "9051f8ad",
   "metadata": {},
   "outputs": [],
   "source": [
    "def binary_search(_list, k):\n",
    "    if len(_list) < 2:\n",
    "        if _list[0] < k:\n",
    "            return 'Found'\n",
    "        else:\n",
    "            return 'Not Found'\n",
    "        \n",
    "    else:\n",
    "        mid = len(_list) // 2\n",
    "        \n",
    "        if _list[mid]==k:\n",
    "            return 'Found'\n",
    "            \n",
    "        elif _list[mid] < k:\n",
    "            return binary_search(_list[:mid], k)\n",
    "        else:\n",
    "            return binary_search(_list[mid:], k)\n",
    "        "
   ]
  },
  {
   "cell_type": "code",
   "execution_count": 64,
   "id": "cbe9cda9",
   "metadata": {},
   "outputs": [
    {
     "data": {
      "text/plain": [
       "'Not Found'"
      ]
     },
     "execution_count": 64,
     "metadata": {},
     "output_type": "execute_result"
    }
   ],
   "source": [
    "binary_search(lst, 4)"
   ]
  },
  {
   "cell_type": "markdown",
   "id": "6cf04ae9",
   "metadata": {},
   "source": [
    "## stack( Last Input | First Output)"
   ]
  },
  {
   "cell_type": "code",
   "execution_count": 34,
   "id": "1064eba0",
   "metadata": {},
   "outputs": [],
   "source": [
    "stack = []\n",
    "\n",
    "stack.insert(0, 4)\n",
    "stack.insert(0, 6)\n",
    "stack.insert(0, 8)"
   ]
  },
  {
   "cell_type": "code",
   "execution_count": 35,
   "id": "13395a0c",
   "metadata": {},
   "outputs": [
    {
     "data": {
      "text/plain": [
       "[8, 6, 4]"
      ]
     },
     "execution_count": 35,
     "metadata": {},
     "output_type": "execute_result"
    }
   ],
   "source": [
    "stack"
   ]
  },
  {
   "cell_type": "code",
   "execution_count": 37,
   "id": "08f51cbb",
   "metadata": {},
   "outputs": [
    {
     "data": {
      "text/plain": [
       "6"
      ]
     },
     "execution_count": 37,
     "metadata": {},
     "output_type": "execute_result"
    }
   ],
   "source": [
    "stack.pop()"
   ]
  },
  {
   "cell_type": "code",
   "execution_count": 38,
   "id": "33195b75",
   "metadata": {},
   "outputs": [
    {
     "data": {
      "text/plain": [
       "[8]"
      ]
     },
     "execution_count": 38,
     "metadata": {},
     "output_type": "execute_result"
    }
   ],
   "source": [
    "stack"
   ]
  },
  {
   "cell_type": "code",
   "execution_count": 69,
   "id": "6ee13d26",
   "metadata": {},
   "outputs": [
    {
     "name": "stdout",
     "output_type": "stream",
     "text": [
      "Collecting loguru\n",
      "  Using cached loguru-0.7.2-py3-none-any.whl.metadata (23 kB)\n",
      "Using cached loguru-0.7.2-py3-none-any.whl (62 kB)\n",
      "Installing collected packages: loguru\n",
      "Successfully installed loguru-0.7.2\n"
     ]
    }
   ],
   "source": [
    "!pip install loguru"
   ]
  },
  {
   "cell_type": "code",
   "execution_count": 39,
   "id": "3406c411",
   "metadata": {},
   "outputs": [],
   "source": [
    "from collections import deque \n",
    "from loguru import logger"
   ]
  },
  {
   "cell_type": "code",
   "execution_count": 40,
   "id": "9f834737",
   "metadata": {},
   "outputs": [],
   "source": [
    "my_stack = deque()"
   ]
  },
  {
   "cell_type": "code",
   "execution_count": 41,
   "id": "4885331a",
   "metadata": {},
   "outputs": [
    {
     "data": {
      "text/plain": [
       "collections.deque"
      ]
     },
     "execution_count": 41,
     "metadata": {},
     "output_type": "execute_result"
    }
   ],
   "source": [
    "type(my_stack)"
   ]
  },
  {
   "cell_type": "code",
   "execution_count": 42,
   "id": "db559c59",
   "metadata": {},
   "outputs": [],
   "source": [
    "class CustomStack():\n",
    "    def __init__(self):\n",
    "        self.container = deque()\n",
    "        \n",
    "    def push(self, val):\n",
    "        \n",
    "        return self.container.append(val)\n",
    "        \n",
    "    \n",
    "    def pop(self):\n",
    "        try:\n",
    "            return self.container.pop()\n",
    "        except:\n",
    "            logger.info('Stack is empty')\n",
    "            \n",
    "    def peek(self):\n",
    "        if self.container:\n",
    "            return self.container[-1]\n",
    "            \n",
    "        else:\n",
    "            logger.info('Stack is empty')\n",
    "            \n",
    "    def isempty(self):\n",
    "        if len(self.container) == 0:\n",
    "            return True\n",
    "        else:\n",
    "            return False\n",
    "        \n",
    "    def __len__(self):\n",
    "        return len(self.container)\n",
    "        \n",
    "    def __repr__(self):\n",
    "        return f\"{self.container}\"\n",
    "       "
   ]
  },
  {
   "cell_type": "code",
   "execution_count": 53,
   "id": "0479653f",
   "metadata": {},
   "outputs": [],
   "source": [
    "stack = CustomStack()"
   ]
  },
  {
   "cell_type": "code",
   "execution_count": 54,
   "id": "d70f3894",
   "metadata": {},
   "outputs": [],
   "source": [
    "stack.push(8)\n",
    "stack.push(9)"
   ]
  },
  {
   "cell_type": "code",
   "execution_count": 55,
   "id": "4545bc89",
   "metadata": {},
   "outputs": [
    {
     "data": {
      "text/plain": [
       "deque([8, 9])"
      ]
     },
     "execution_count": 55,
     "metadata": {},
     "output_type": "execute_result"
    }
   ],
   "source": [
    "stack"
   ]
  },
  {
   "cell_type": "code",
   "execution_count": 61,
   "id": "85a536f5",
   "metadata": {},
   "outputs": [
    {
     "name": "stderr",
     "output_type": "stream",
     "text": [
      "\u001b[32m2024-05-08 17:58:02.648\u001b[0m | \u001b[1mINFO    \u001b[0m | \u001b[36m__main__\u001b[0m:\u001b[36mpop\u001b[0m:\u001b[36m14\u001b[0m - \u001b[1mStack is empty\u001b[0m\n"
     ]
    }
   ],
   "source": [
    "stack.pop()"
   ]
  },
  {
   "cell_type": "code",
   "execution_count": 62,
   "id": "3cb52b69",
   "metadata": {},
   "outputs": [
    {
     "name": "stderr",
     "output_type": "stream",
     "text": [
      "\u001b[32m2024-05-08 17:58:04.638\u001b[0m | \u001b[1mINFO    \u001b[0m | \u001b[36m__main__\u001b[0m:\u001b[36mpeek\u001b[0m:\u001b[36m21\u001b[0m - \u001b[1mStack is empty\u001b[0m\n"
     ]
    }
   ],
   "source": [
    "stack.peek()"
   ]
  },
  {
   "cell_type": "code",
   "execution_count": 63,
   "id": "c0b1cd57",
   "metadata": {},
   "outputs": [
    {
     "data": {
      "text/plain": [
       "True"
      ]
     },
     "execution_count": 63,
     "metadata": {},
     "output_type": "execute_result"
    }
   ],
   "source": [
    "stack.isempty()"
   ]
  },
  {
   "cell_type": "markdown",
   "id": "48fb82cd",
   "metadata": {},
   "source": [
    "<img src=\"https://media.geeksforgeeks.org/wp-content/uploads/anod.png\">"
   ]
  },
  {
   "cell_type": "markdown",
   "id": "f209e396",
   "metadata": {},
   "source": [
    "<img src='ksforgeeks.org/wp-content/uploads/anod.png'>"
   ]
  },
  {
   "cell_type": "markdown",
   "id": "7ddcf3dc-c0a4-40eb-a20d-27fa61d0eca2",
   "metadata": {},
   "source": [
    "## Queue(First Input | First Output)"
   ]
  },
  {
   "attachments": {},
   "cell_type": "markdown",
   "id": "31862de1-3eeb-4291-8624-f46ef49742ec",
   "metadata": {},
   "source": [
    "<img src=\"https://logicmojo.com/assets/dist/new_pages/images/Queue.png\">"
   ]
  },
  {
   "cell_type": "code",
   "execution_count": 22,
   "id": "98583d6f-4efa-4b12-861b-462071a6e108",
   "metadata": {},
   "outputs": [],
   "source": [
    "que = []"
   ]
  },
  {
   "cell_type": "code",
   "execution_count": 23,
   "id": "632d1278-ab9d-4593-8466-a4f1caf0d447",
   "metadata": {},
   "outputs": [],
   "source": [
    "que.insert(0,5)\n",
    "que.insert(0,8)\n",
    "que.insert(0,9)"
   ]
  },
  {
   "cell_type": "code",
   "execution_count": 24,
   "id": "4092fabd-9b76-4f4a-937e-9dff90d818c1",
   "metadata": {},
   "outputs": [
    {
     "data": {
      "text/plain": [
       "[9, 8, 5]"
      ]
     },
     "execution_count": 24,
     "metadata": {},
     "output_type": "execute_result"
    }
   ],
   "source": [
    "que"
   ]
  },
  {
   "cell_type": "code",
   "execution_count": 26,
   "id": "d68c1b62-bd9c-46a2-9245-17a20b7c5cc1",
   "metadata": {},
   "outputs": [
    {
     "data": {
      "text/plain": [
       "8"
      ]
     },
     "execution_count": 26,
     "metadata": {},
     "output_type": "execute_result"
    }
   ],
   "source": [
    "que.pop()"
   ]
  },
  {
   "cell_type": "code",
   "execution_count": 14,
   "id": "ea770b44-e36c-4600-8a8b-dcf794876c94",
   "metadata": {},
   "outputs": [
    {
     "data": {
      "text/plain": [
       "[]"
      ]
     },
     "execution_count": 14,
     "metadata": {},
     "output_type": "execute_result"
    }
   ],
   "source": [
    "que"
   ]
  },
  {
   "cell_type": "code",
   "execution_count": 16,
   "id": "4e0619ec-5c8e-45f9-87d4-02b23a256826",
   "metadata": {},
   "outputs": [],
   "source": [
    "from collections import deque\n",
    "from loguru import logger"
   ]
  },
  {
   "cell_type": "code",
   "execution_count": 17,
   "id": "30569499-8651-49ea-a7a9-8e68fac37290",
   "metadata": {},
   "outputs": [],
   "source": [
    "my_que = deque()"
   ]
  },
  {
   "cell_type": "code",
   "execution_count": 18,
   "id": "5ff34d5f-de4a-458d-b2f7-bf7c975a7c6b",
   "metadata": {},
   "outputs": [],
   "source": [
    "my_que.appendleft(5)\n",
    "my_que.appendleft(8)\n",
    "my_que.appendleft(9)"
   ]
  },
  {
   "cell_type": "code",
   "execution_count": 19,
   "id": "a441ad05-c113-4da9-9ed0-5066ea8da6d7",
   "metadata": {},
   "outputs": [
    {
     "data": {
      "text/plain": [
       "deque([9, 8, 5])"
      ]
     },
     "execution_count": 19,
     "metadata": {},
     "output_type": "execute_result"
    }
   ],
   "source": [
    "my_que"
   ]
  },
  {
   "cell_type": "code",
   "execution_count": 21,
   "id": "9091f74b-a11c-4360-b6a7-cc6ab59f956e",
   "metadata": {},
   "outputs": [
    {
     "data": {
      "text/plain": [
       "8"
      ]
     },
     "execution_count": 21,
     "metadata": {},
     "output_type": "execute_result"
    }
   ],
   "source": [
    "my_que.pop()"
   ]
  },
  {
   "cell_type": "code",
   "execution_count": 45,
   "id": "0257f922-607d-4e07-ba73-1e4971bb8baf",
   "metadata": {},
   "outputs": [
    {
     "data": {
      "text/plain": [
       "deque([9, 8])"
      ]
     },
     "execution_count": 45,
     "metadata": {},
     "output_type": "execute_result"
    }
   ],
   "source": [
    "my_que"
   ]
  },
  {
   "cell_type": "code",
   "execution_count": 28,
   "id": "d1ffe41e-4cb9-412b-bce0-0a461814f15e",
   "metadata": {},
   "outputs": [],
   "source": [
    "class CQueue:\n",
    "    def __init__(self):\n",
    "        self.container = deque()\n",
    "\n",
    "    def enqueue(self, val):\n",
    "        self.container.appendleft(val)\n",
    "\n",
    "    def dequeue(self):\n",
    "        try:\n",
    "            return self.container.pop()\n",
    "        except:\n",
    "            logger.info(\"Queue is Empty\")\n",
    "\n",
    "    def peek(self):\n",
    "        try:\n",
    "            return slef.container[-1]\n",
    "        except:\n",
    "            logger.info(\"Queue is Empty\")\n",
    "\n",
    "    def isempty(self):\n",
    "        if len(lsef.container):\n",
    "            return False\n",
    "        else:\n",
    "            return True\n",
    "\n",
    "    def __len__(self):\n",
    "        return len(slef.container)\n",
    "\n",
    "    def __repr__(self):\n",
    "        return f\"{self.container}\""
   ]
  },
  {
   "cell_type": "code",
   "execution_count": 29,
   "id": "dc84ae94-fc9f-4218-92dc-3ce74b778470",
   "metadata": {},
   "outputs": [],
   "source": [
    "que = CQueue()"
   ]
  },
  {
   "cell_type": "code",
   "execution_count": 30,
   "id": "7c5212d1-6d1e-4944-a570-5aaa7783d2ed",
   "metadata": {},
   "outputs": [],
   "source": [
    "que.enqueue(6)\n",
    "que.enqueue(8) \n",
    "que.enqueue(9)"
   ]
  },
  {
   "cell_type": "code",
   "execution_count": 31,
   "id": "a4163603-6fcc-4f23-9152-5fe64fd35c65",
   "metadata": {},
   "outputs": [
    {
     "data": {
      "text/plain": [
       "deque([9, 8, 6])"
      ]
     },
     "execution_count": 31,
     "metadata": {},
     "output_type": "execute_result"
    }
   ],
   "source": [
    "que"
   ]
  },
  {
   "cell_type": "code",
   "execution_count": 33,
   "id": "381dc379-20c1-4928-884b-efb2dfead786",
   "metadata": {},
   "outputs": [
    {
     "data": {
      "text/plain": [
       "8"
      ]
     },
     "execution_count": 33,
     "metadata": {},
     "output_type": "execute_result"
    }
   ],
   "source": [
    "que.dequeue()"
   ]
  },
  {
   "cell_type": "code",
   "execution_count": 65,
   "id": "58a637e6-5add-41a9-b9c9-71ba8039281e",
   "metadata": {},
   "outputs": [
    {
     "data": {
      "text/plain": [
       "deque([])"
      ]
     },
     "execution_count": 65,
     "metadata": {},
     "output_type": "execute_result"
    }
   ],
   "source": [
    "que"
   ]
  },
  {
   "cell_type": "markdown",
   "id": "ca6104a5-1df2-4784-a3c6-5df1380668fe",
   "metadata": {},
   "source": [
    "## Linked List (part 1)"
   ]
  },
  {
   "cell_type": "code",
   "execution_count": 26,
   "id": "facc34a1-c5d1-4e6c-8bb8-eb751659ff7e",
   "metadata": {},
   "outputs": [
    {
     "name": "stdout",
     "output_type": "stream",
     "text": [
      "********************Just node connect to eachother********************\n",
      "4\n",
      "6\n",
      "8\n",
      "********************Linked List********************\n",
      "4\n",
      "6\n",
      "8\n"
     ]
    }
   ],
   "source": [
    "class Node:\n",
    "    def __init__(self, data):\n",
    "        self.data = data\n",
    "        self.next = None\n",
    "\n",
    "class Linked_list:\n",
    "    def __init__(self):\n",
    "        self.head = None\n",
    "\n",
    "    def push(self, data):\n",
    "        new_node = Node(data)\n",
    "        new_node.next = self.head\n",
    "        self.head = new_node\n",
    "\n",
    "node_first = Node(4)\n",
    "node_secound = Node(6)\n",
    "node_third = Node(8)\n",
    "\n",
    "node_first.next = node_secound\n",
    "node_secound.next = node_third\n",
    "\n",
    "print(\"*\" *20 + \"Just node connect to eachother\" + \"*\" * 20)\n",
    "print(node_first.data)\n",
    "print(node_first.next.data)\n",
    "print(node_first.next.next.data)\n",
    "\n",
    "ll = Linked_list()\n",
    "ll.head = node_first\n",
    "\n",
    "print(\"*\" *20 + \"Linked List\" + \"*\" * 20)\n",
    "print(ll.head.data)\n",
    "print(ll.head.next.data)\n",
    "print(ll.head.next.next.data)"
   ]
  },
  {
   "cell_type": "code",
   "execution_count": 15,
   "id": "82ab5399-2a2c-4bdf-8fd1-202f2b9ef2bb",
   "metadata": {},
   "outputs": [
    {
     "name": "stdout",
     "output_type": "stream",
     "text": [
      "True\n",
      "12 --> 11 --> 10\n",
      "12 --> 11 --> 10 --> 14\n",
      "4\n",
      "False\n"
     ]
    }
   ],
   "source": [
    "class Node:\n",
    "    def __init__(self, data):\n",
    "        self.data = data\n",
    "        self.next = None\n",
    "\n",
    "class Linked_list:\n",
    "    def __init__(self):\n",
    "        self.head = None\n",
    "        self.length = 0\n",
    "        \n",
    "\n",
    "    def push(self, data):\n",
    "        new_node = Node(data)\n",
    "        new_node.next = self.head\n",
    "        self.head = new_node\n",
    "        self.length += 1\n",
    "\n",
    "    \n",
    "    def append(self, data):\n",
    "        new_node = Node(data)\n",
    "        temp = self.head\n",
    "        while temp.next:\n",
    "            temp = temp.next\n",
    "        else:\n",
    "            temp.next = new_node\n",
    "        self.length += 1\n",
    "\n",
    "    \n",
    "    def __len__(self):\n",
    "        return self.length\n",
    "\n",
    "\n",
    "    def isempty(self):\n",
    "        if self.length == 0:\n",
    "            return True\n",
    "        else:\n",
    "            return False\n",
    "         \n",
    "\n",
    "    def __repr__(self):\n",
    "        _str = \"\"\n",
    "        temp = self.head\n",
    "\n",
    "        while temp.next:\n",
    "            _str += f\"{str(temp.data)} --> \"\n",
    "            temp = temp.next\n",
    "\n",
    "        else:\n",
    "            _str += str(temp.data)\n",
    "            \n",
    "        return _str \n",
    "            \n",
    "\n",
    "ll = Linked_list()\n",
    "\n",
    "print(ll.isempty())\n",
    "\n",
    "ll.push(10)\n",
    "ll.push(11)\n",
    "ll.push(12)\n",
    "\n",
    "\n",
    "print(ll)\n",
    "\n",
    "ll.append(14)\n",
    "\n",
    "print(ll)\n",
    "\n",
    "print(len(ll))\n",
    "\n",
    "print(ll.isempty())"
   ]
  },
  {
   "cell_type": "markdown",
   "id": "4fa5d479-11cd-40b0-b9c7-e9ddd9336b09",
   "metadata": {},
   "source": [
    "## Lisked List (part 2)"
   ]
  },
  {
   "cell_type": "code",
   "execution_count": 5,
   "id": "847e19ac-85d2-46dd-bf3b-2a7d6eec4ad3",
   "metadata": {},
   "outputs": [
    {
     "name": "stdout",
     "output_type": "stream",
     "text": [
      "True\n",
      "12 --> 11 --> 10\n",
      "12 --> 11 --> 10 --> 14\n",
      "4\n",
      "False\n"
     ]
    }
   ],
   "source": [
    "class Node:\n",
    "    def __init__(self, data):\n",
    "        self.data = data\n",
    "        self.next = None\n",
    "\n",
    "class Linked_list:\n",
    "    def __init__(self):\n",
    "        self.head = None\n",
    "        self.length = 0\n",
    "        \n",
    "\n",
    "    def push(self, data):\n",
    "        new_node = Node(data)\n",
    "        new_node.next = self.head\n",
    "        self.head = new_node\n",
    "        self.length += 1\n",
    "\n",
    "    \n",
    "    def append(self, data):\n",
    "        new_node = Node(data)\n",
    "        temp = self.head\n",
    "        while temp.next:\n",
    "            temp = temp.next\n",
    "        else:\n",
    "            temp.next = new_node\n",
    "        self.length += 1\n",
    "\n",
    "    def insert(self, index, data):\n",
    "        if index <= 0:\n",
    "            return self.push(data)\n",
    "            \n",
    "        elif index >= self.length - 1:\n",
    "            return self.append(data)\n",
    "\n",
    "        else:\n",
    "\n",
    "            pre = temp = self.head\n",
    "\n",
    "            while index:\n",
    "                pre = temp\n",
    "                temp = temp.next\n",
    "                index -= 1\n",
    "            else:\n",
    "                new_node = Node(data)\n",
    "                new_node.next = temp\n",
    "                pre.next = new_node\n",
    "                self.length += 1\n",
    "            \n",
    "\n",
    "    \n",
    "    def __len__(self):\n",
    "        return self.length\n",
    "\n",
    "\n",
    "    def isempty(self):\n",
    "        if self.length == 0:\n",
    "            return True\n",
    "        else:\n",
    "            return False\n",
    "         \n",
    "\n",
    "    def __repr__(self):\n",
    "        _str = \"\"\n",
    "        temp = self.head\n",
    "\n",
    "        while temp.next:\n",
    "            _str += f\"{str(temp.data)} --> \"\n",
    "            temp = temp.next\n",
    "\n",
    "        else:\n",
    "            _str += str(temp.data)\n",
    "            \n",
    "        return _str \n",
    "            \n",
    "\n",
    "ll = Linked_list()\n",
    "\n",
    "print(ll.isempty())\n",
    "\n",
    "ll.push(10)\n",
    "ll.push(11)\n",
    "ll.push(12)\n",
    "\n",
    "\n",
    "print(ll)\n",
    "\n",
    "ll.append(14)\n",
    "\n",
    "print(ll)\n",
    "\n",
    "print(len(ll))\n",
    "\n",
    "print(ll.isempty())"
   ]
  },
  {
   "cell_type": "code",
   "execution_count": 7,
   "id": "e2ded3ab-1d8d-4e81-a858-a02a701cf1a5",
   "metadata": {},
   "outputs": [
    {
     "data": {
      "text/plain": [
       "30 --> 12 --> 11 --> 30 --> 10 --> 14"
      ]
     },
     "execution_count": 7,
     "metadata": {},
     "output_type": "execute_result"
    }
   ],
   "source": [
    "ll.insert(-13, 30)\n",
    "ll"
   ]
  },
  {
   "cell_type": "markdown",
   "id": "502cf73a-cd97-4e13-855b-daa0aa73eb82",
   "metadata": {},
   "source": [
    "## Linked List (part3 | pop):"
   ]
  },
  {
   "cell_type": "code",
   "execution_count": 13,
   "id": "569b3f87-4082-4a2f-8a75-9846ca17f523",
   "metadata": {},
   "outputs": [
    {
     "name": "stdout",
     "output_type": "stream",
     "text": [
      "True\n",
      "12 --> 11 --> 10\n",
      "12 --> 11 --> 10 --> 14\n",
      "4\n",
      "False\n"
     ]
    }
   ],
   "source": [
    "class Node:\n",
    "    def __init__(self, data):\n",
    "        self.data = data\n",
    "        self.next = None\n",
    "\n",
    "class Linked_list:\n",
    "    def __init__(self):\n",
    "        self.head = None\n",
    "        self.length = 0\n",
    "        \n",
    "\n",
    "    def push(self, data):\n",
    "        new_node = Node(data)\n",
    "        new_node.next = self.head\n",
    "        self.head = new_node\n",
    "        self.length += 1\n",
    "\n",
    "    \n",
    "    def append(self, data):\n",
    "        new_node = Node(data)\n",
    "        temp = self.head\n",
    "        while temp.next:\n",
    "            temp = temp.next\n",
    "        else:\n",
    "            temp.next = new_node\n",
    "        self.length += 1\n",
    "\n",
    "    def insert(self, index, data):\n",
    "        if index <= 0:\n",
    "            return self.push(data)\n",
    "            \n",
    "        elif index >= self.length - 1:\n",
    "            return self.append(data)\n",
    "\n",
    "        else:\n",
    "\n",
    "            pre = temp = self.head\n",
    "\n",
    "            while index:\n",
    "                pre = temp\n",
    "                temp = temp.next\n",
    "                index -= 1\n",
    "            else:\n",
    "                new_node = Node(data)\n",
    "                new_node.next = temp\n",
    "                pre.next = new_node\n",
    "                self.length += 1\n",
    "\n",
    "    def pop(self, index=-1):\n",
    "        if index == -1:\n",
    "            temp = self.head\n",
    "            while temp.next.next:\n",
    "                temp = temp.next\n",
    "            data = temp.next.data\n",
    "            temp.next = None\n",
    "            return data\n",
    "\n",
    "        elif index == 0:\n",
    "            temp = self.head\n",
    "            data = self.head.data\n",
    "            self.head = self.head.next\n",
    "            return data\n",
    "\n",
    "        else:\n",
    "            temp = self.head\n",
    "            index -= 1\n",
    "            while index:\n",
    "                temp = temp.next\n",
    "                index -= 1\n",
    "            data = temp.next.data\n",
    "            temp.next = temp.next.next\n",
    "            return data\n",
    "            \n",
    "\n",
    "    \n",
    "    def __len__(self):\n",
    "        return self.length\n",
    "\n",
    "\n",
    "    def isempty(self):\n",
    "        if self.length == 0:\n",
    "            return True\n",
    "        else:\n",
    "            return False\n",
    "         \n",
    "\n",
    "    def __repr__(self):\n",
    "        _str = \"\"\n",
    "        temp = self.head\n",
    "\n",
    "        while temp.next:\n",
    "            _str += f\"{str(temp.data)} --> \"\n",
    "            temp = temp.next\n",
    "\n",
    "        else:\n",
    "            _str += str(temp.data)\n",
    "            \n",
    "        return _str \n",
    "            \n",
    "\n",
    "ll = Linked_list()\n",
    "\n",
    "print(ll.isempty())\n",
    "\n",
    "ll.push(10)\n",
    "ll.push(11)\n",
    "ll.push(12)\n",
    "\n",
    "\n",
    "print(ll)\n",
    "\n",
    "ll.append(14)\n",
    "\n",
    "print(ll)\n",
    "\n",
    "print(len(ll))\n",
    "\n",
    "print(ll.isempty())"
   ]
  },
  {
   "cell_type": "code",
   "execution_count": 16,
   "id": "809f625a-bb26-446e-8496-9a212fd13606",
   "metadata": {},
   "outputs": [
    {
     "data": {
      "text/plain": [
       "11"
      ]
     },
     "execution_count": 16,
     "metadata": {},
     "output_type": "execute_result"
    }
   ],
   "source": [
    "ll.pop(1)"
   ]
  },
  {
   "cell_type": "code",
   "execution_count": 17,
   "id": "98f693f4-95c5-401a-a181-9ca8aa195e6d",
   "metadata": {},
   "outputs": [
    {
     "name": "stdout",
     "output_type": "stream",
     "text": [
      "12 --> 14\n"
     ]
    }
   ],
   "source": [
    "print(ll)"
   ]
  },
  {
   "cell_type": "markdown",
   "id": "6c915ba5-6acf-4f54-85f1-bdcc0cb7e2b0",
   "metadata": {},
   "source": [
    "## Linked List (part4 | reverse)"
   ]
  },
  {
   "cell_type": "code",
   "execution_count": 30,
   "id": "8a9efbc5-9489-43d1-82e4-f18f5610b524",
   "metadata": {},
   "outputs": [
    {
     "name": "stdout",
     "output_type": "stream",
     "text": [
      "True\n",
      "12 --> 11 --> 10\n",
      "12 --> 11 --> 10 --> 14\n",
      "4\n",
      "False\n"
     ]
    }
   ],
   "source": [
    "class Node:\n",
    "    def __init__(self, data):\n",
    "        self.data = data\n",
    "        self.next = None\n",
    "\n",
    "class Linked_list:\n",
    "    def __init__(self):\n",
    "        self.head = None\n",
    "        self.length = 0\n",
    "        \n",
    "\n",
    "    def push(self, data):\n",
    "        new_node = Node(data)\n",
    "        new_node.next = self.head\n",
    "        self.head = new_node\n",
    "        self.length += 1\n",
    "\n",
    "    \n",
    "    def append(self, data):\n",
    "        new_node = Node(data)\n",
    "        temp = self.head\n",
    "        while temp.next:\n",
    "            temp = temp.next\n",
    "        else:\n",
    "            temp.next = new_node\n",
    "        self.length += 1\n",
    "\n",
    "    def insert(self, index, data):\n",
    "        if index <= 0:\n",
    "            return self.push(data)\n",
    "            \n",
    "        elif index >= self.length - 1:\n",
    "            return self.append(data)\n",
    "\n",
    "        else:\n",
    "\n",
    "            pre = temp = self.head\n",
    "\n",
    "            while index:\n",
    "                pre = temp\n",
    "                temp = temp.next\n",
    "                index -= 1\n",
    "            else:\n",
    "                new_node = Node(data)\n",
    "                new_node.next = temp\n",
    "                pre.next = new_node\n",
    "                self.length += 1\n",
    "\n",
    "    def pop(self, index=-1):\n",
    "        if index == -1:\n",
    "            temp = self.head\n",
    "            while temp.next.next:\n",
    "                temp = temp.next\n",
    "            data = temp.next.data\n",
    "            temp.next = None\n",
    "            return data\n",
    "\n",
    "        elif index == 0:\n",
    "            temp = self.head\n",
    "            data = self.head.data\n",
    "            self.head = self.head.next\n",
    "            return data\n",
    "\n",
    "        else:\n",
    "            temp = self.head\n",
    "            index -= 1\n",
    "            while index:\n",
    "                temp = temp.next\n",
    "                index -= 1\n",
    "            data = temp.next.data\n",
    "            temp.next = temp.next.next\n",
    "            return data\n",
    "            \n",
    "\n",
    "    \n",
    "    def __len__(self):\n",
    "        return self.length\n",
    "\n",
    "\n",
    "    def isempty(self):\n",
    "        if self.length == 0:\n",
    "            return True\n",
    "        else:\n",
    "            return False\n",
    "         \n",
    "\n",
    "    def __repr__(self):\n",
    "        _str = \"\"\n",
    "        temp = self.head\n",
    "\n",
    "        while temp.next:\n",
    "            _str += f\"{str(temp.data)} --> \"\n",
    "            temp = temp.next\n",
    "\n",
    "        else:\n",
    "            _str += str(temp.data)\n",
    "            \n",
    "        return _str \n",
    "\n",
    "\n",
    "    def reverse(self):\n",
    "        pre = None\n",
    "        cur = self.head\n",
    "        while cur:\n",
    "            _next = cur.next\n",
    "            cur.next = pre\n",
    "            pre = cur\n",
    "            cur = _next\n",
    "        self.head = pre\n",
    "            \n",
    "\n",
    "ll = Linked_list()\n",
    "\n",
    "print(ll.isempty())\n",
    "\n",
    "ll.push(10)\n",
    "ll.push(11)\n",
    "ll.push(12)\n",
    "\n",
    "\n",
    "print(ll)\n",
    "\n",
    "ll.append(14)\n",
    "\n",
    "print(ll)\n",
    "\n",
    "print(len(ll))\n",
    "\n",
    "print(ll.isempty()) "
   ]
  },
  {
   "cell_type": "code",
   "execution_count": 31,
   "id": "0bdf93c0-3764-4cb4-91ac-83e8df4cfb27",
   "metadata": {},
   "outputs": [],
   "source": [
    "ll.reverse()"
   ]
  },
  {
   "cell_type": "code",
   "execution_count": 32,
   "id": "915ba846-f426-4dec-9d75-21edd1a04404",
   "metadata": {},
   "outputs": [
    {
     "data": {
      "text/plain": [
       "14 --> 10 --> 11 --> 12"
      ]
     },
     "execution_count": 32,
     "metadata": {},
     "output_type": "execute_result"
    }
   ],
   "source": [
    "ll"
   ]
  },
  {
   "cell_type": "code",
   "execution_count": null,
   "id": "9b29f837-5a45-43da-bf62-54ac43fb13c4",
   "metadata": {},
   "outputs": [],
   "source": []
  }
 ],
 "metadata": {
  "kernelspec": {
   "display_name": "Python 3 (ipykernel)",
   "language": "python",
   "name": "python3"
  },
  "language_info": {
   "codemirror_mode": {
    "name": "ipython",
    "version": 3
   },
   "file_extension": ".py",
   "mimetype": "text/x-python",
   "name": "python",
   "nbconvert_exporter": "python",
   "pygments_lexer": "ipython3",
   "version": "3.11.6"
  }
 },
 "nbformat": 4,
 "nbformat_minor": 5
}
