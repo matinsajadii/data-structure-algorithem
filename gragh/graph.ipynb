{
 "cells": [
  {
   "cell_type": "markdown",
   "metadata": {},
   "source": [
    "# Grapgh (part1)"
   ]
  },
  {
   "cell_type": "code",
   "execution_count": 6,
   "metadata": {},
   "outputs": [],
   "source": [
    "class Graph:\n",
    "    def __init__(self, edges):\n",
    "        self.edges = edges\n",
    "        self.adj_dict = dict()\n",
    "        self.create_adj_dict()\n",
    "\n",
    "    def create_adj_dict(self):\n",
    "        for start, dist in self.edges:\n",
    "            if  start in self.adj_dict:\n",
    "                self.adj_dict[start].append(dist)\n",
    "            else:\n",
    "                self.adj_dict[start] = [dist]\n",
    "\n",
    "    def get_path(self, start, dist, path=[]):\n",
    "        path = path + [start]\n",
    "        if start == dist:\n",
    "            return [path]\n",
    "        \n",
    "        if start not in self.adj_dict:\n",
    "            return []\n",
    "        \n",
    "        paths = []\n",
    "        for vertex in self.adj_dict[start]:\n",
    "            if vertex not in path:\n",
    "                new_paths = self.get_path(vertex, dist, path)\n",
    "                for p in new_paths:\n",
    "                    paths.append(p)\n",
    "        return paths\n",
    "\n",
    "    def shortest_path(self, start, dist, path=[]):\n",
    "        path = path + [start]\n",
    "        if start == dist:\n",
    "            return path\n",
    "        \n",
    "        if start not in self.adj_dict:\n",
    "            return None\n",
    "        \n",
    "        short_paths = None\n",
    "        for vertex in self.adj_dict[start]:\n",
    "            if vertex not in path:\n",
    "                n_sp = self.shortest_path(vertex, dist, path)\n",
    "                if n_sp:\n",
    "                    if short_paths is None or len(n_sp) < len(short_paths):\n",
    "                        short_paths = n_sp\n",
    "\n",
    "        return short_paths"
   ]
  },
  {
   "cell_type": "code",
   "execution_count": 7,
   "metadata": {},
   "outputs": [],
   "source": [
    "routes = [\n",
    "    (\"Kerman\", \"Yazd\"),\n",
    "    (\"Kerman\", \"Esfahan\"),\n",
    "    (\"Esfahan\", \"Mashhad\"),\n",
    "    (\"Yazd\", \"Mashhad\"),\n",
    "    (\"Yazd\", \"Esfahan\"),\n",
    "    (\"Mashhad\", \"Tehran\"),\n",
    "]"
   ]
  },
  {
   "cell_type": "code",
   "execution_count": 8,
   "metadata": {},
   "outputs": [
    {
     "data": {
      "text/plain": [
       "{'Kerman': ['Yazd', 'Esfahan'],\n",
       " 'Esfahan': ['Mashhad'],\n",
       " 'Yazd': ['Mashhad', 'Esfahan'],\n",
       " 'Mashhad': ['Tehran']}"
      ]
     },
     "execution_count": 8,
     "metadata": {},
     "output_type": "execute_result"
    }
   ],
   "source": [
    "grapgh = Graph(routes)\n",
    "grapgh.adj_dict"
   ]
  },
  {
   "cell_type": "code",
   "execution_count": 9,
   "metadata": {},
   "outputs": [
    {
     "data": {
      "text/plain": [
       "[['Yazd', 'Mashhad', 'Tehran'], ['Yazd', 'Esfahan', 'Mashhad', 'Tehran']]"
      ]
     },
     "execution_count": 9,
     "metadata": {},
     "output_type": "execute_result"
    }
   ],
   "source": [
    "grapgh.get_path(\"Yazd\", \"Tehran\")"
   ]
  },
  {
   "cell_type": "code",
   "execution_count": 10,
   "metadata": {},
   "outputs": [
    {
     "data": {
      "text/plain": [
       "['Yazd', 'Mashhad', 'Tehran']"
      ]
     },
     "execution_count": 10,
     "metadata": {},
     "output_type": "execute_result"
    }
   ],
   "source": [
    "grapgh.shortest_path(\"Yazd\", \"Tehran\")"
   ]
  },
  {
   "cell_type": "code",
   "execution_count": null,
   "metadata": {},
   "outputs": [],
   "source": []
  },
  {
   "cell_type": "code",
   "execution_count": null,
   "metadata": {},
   "outputs": [],
   "source": []
  }
 ],
 "metadata": {
  "kernelspec": {
   "display_name": "py311",
   "language": "python",
   "name": "python3"
  },
  "language_info": {
   "codemirror_mode": {
    "name": "ipython",
    "version": 3
   },
   "file_extension": ".py",
   "mimetype": "text/x-python",
   "name": "python",
   "nbconvert_exporter": "python",
   "pygments_lexer": "ipython3",
   "version": "3.11.6"
  }
 },
 "nbformat": 4,
 "nbformat_minor": 2
}
