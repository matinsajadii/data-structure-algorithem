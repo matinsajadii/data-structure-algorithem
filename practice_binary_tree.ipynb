{
 "cells": [
  {
   "cell_type": "markdown",
   "metadata": {},
   "source": [
    "# Binary Tree(part1)"
   ]
  },
  {
   "cell_type": "code",
   "execution_count": 25,
   "metadata": {},
   "outputs": [],
   "source": [
    "class Tree_node:\n",
    "    def __init__(self, data):\n",
    "        self.data = data\n",
    "        self.children = []\n",
    "        self.parent = None\n",
    "\n",
    "\n",
    "    def add_child(self, child):\n",
    "        self.children.append(child)\n",
    "        child.parent = self\n",
    "\n",
    "\n",
    "    def get_lvl(self):\n",
    "        level = 0\n",
    "        p = self.parent\n",
    "        while p:\n",
    "            level +=1\n",
    "            p = p.parent\n",
    "        return level\n",
    "\n",
    "    \n",
    "    def print_tree(self):\n",
    "        spaces = \"   \" * self.get_lvl()\n",
    "        perfix = spaces + \"|--\" if self.parent else \"|--\"\n",
    "        print(perfix, self.data)\n",
    "        for child in self.children:\n",
    "            child.print_tree()\n",
    "\n",
    "\n",
    "    def search_child(self, key):\n",
    "        if self.data == key:\n",
    "            return True\n",
    "        else:\n",
    "            for child in self.children:\n",
    "                found = child.search_child(key)\n",
    "                if found:\n",
    "                    return True\n",
    "            return False\n",
    "  \n",
    "    def height(self):\n",
    "        if len(self.children) == 0:\n",
    "            return 0\n",
    "        max_height = -1\n",
    "        for child in self.children:\n",
    "            max_height = max(max_height, child.height())\n",
    "        return max_height + 1\n",
    "    \n",
    "    \n",
    "    def isbinary(self):\n",
    "        if len(self.children) >2:\n",
    "            return False\n",
    "        \n",
    "        elif len(self.children) == 0:\n",
    "            return True\n",
    "        \n",
    "        else:\n",
    "            for child in self.children:\n",
    "                if not child.isbinary():\n",
    "                    return False\n",
    "            return True"
   ]
  },
  {
   "cell_type": "code",
   "execution_count": 26,
   "metadata": {},
   "outputs": [],
   "source": [
    "def create_tree():\n",
    "    root = Tree_node(15)\n",
    "    root.add_child(Tree_node(4))\n",
    "    root.add_child(Tree_node(2))\n",
    "\n",
    "    root.children[0].add_child(Tree_node(1))\n",
    "    root.children[0].add_child(Tree_node(8))\n",
    "    root.children[0].add_child(Tree_node(7))\n",
    "    root.children[0].children[0].add_child(Tree_node(99))\n",
    "\n",
    "    \n",
    "\n",
    "    return root"
   ]
  },
  {
   "cell_type": "code",
   "execution_count": 27,
   "metadata": {},
   "outputs": [
    {
     "name": "stdout",
     "output_type": "stream",
     "text": [
      "|-- 15\n",
      "   |-- 4\n",
      "      |-- 1\n",
      "         |-- 99\n",
      "      |-- 8\n",
      "      |-- 7\n",
      "   |-- 2\n"
     ]
    }
   ],
   "source": [
    "root = create_tree()\n",
    "root.print_tree()"
   ]
  },
  {
   "cell_type": "code",
   "execution_count": 28,
   "metadata": {},
   "outputs": [
    {
     "data": {
      "text/plain": [
       "True"
      ]
     },
     "execution_count": 28,
     "metadata": {},
     "output_type": "execute_result"
    }
   ],
   "source": [
    "root.search_child(99)"
   ]
  },
  {
   "cell_type": "code",
   "execution_count": 29,
   "metadata": {},
   "outputs": [
    {
     "data": {
      "text/plain": [
       "False"
      ]
     },
     "execution_count": 29,
     "metadata": {},
     "output_type": "execute_result"
    }
   ],
   "source": [
    "root.isbinary()"
   ]
  },
  {
   "cell_type": "code",
   "execution_count": null,
   "metadata": {},
   "outputs": [],
   "source": []
  },
  {
   "cell_type": "code",
   "execution_count": null,
   "metadata": {},
   "outputs": [],
   "source": []
  }
 ],
 "metadata": {
  "kernelspec": {
   "display_name": "py311",
   "language": "python",
   "name": "python3"
  },
  "language_info": {
   "codemirror_mode": {
    "name": "ipython",
    "version": 3
   },
   "file_extension": ".py",
   "mimetype": "text/x-python",
   "name": "python",
   "nbconvert_exporter": "python",
   "pygments_lexer": "ipython3",
   "version": "3.11.6"
  }
 },
 "nbformat": 4,
 "nbformat_minor": 2
}
